{
 "cells": [
  {
   "cell_type": "code",
   "execution_count": 1,
   "metadata": {},
   "outputs": [
    {
     "name": "stdout",
     "output_type": "stream",
     "text": [
      "hellopython\n"
     ]
    }
   ],
   "source": [
    "#Ques 1:- Try 5 different functions of string in python.\n",
    "\n",
    "# I operation - concatenation(+)\n",
    "\n",
    "str1 = \"hello\"\n",
    "str2 = \"python\"\n",
    "print( str1 + str2)"
   ]
  },
  {
   "cell_type": "code",
   "execution_count": 3,
   "metadata": {},
   "outputs": [
    {
     "name": "stdout",
     "output_type": "stream",
     "text": [
      "BHUMIKA BHUMIKA BHUMIKA \n"
     ]
    }
   ],
   "source": [
    "# II operation - Repetition(*)\n",
    "\n",
    "str = \"BHUMIKA \"\n",
    "print(str*3)"
   ]
  },
  {
   "cell_type": "code",
   "execution_count": 4,
   "metadata": {},
   "outputs": [
    {
     "data": {
      "text/plain": [
       "25"
      ]
     },
     "execution_count": 4,
     "metadata": {},
     "output_type": "execute_result"
    }
   ],
   "source": [
    "# III operation - length\n",
    "\n",
    "a = \" Hello I am Bhumika Wadia\"\n",
    "len(a)"
   ]
  },
  {
   "cell_type": "code",
   "execution_count": 5,
   "metadata": {},
   "outputs": [
    {
     "data": {
      "text/plain": [
       "'hello python programmers '"
      ]
     },
     "execution_count": 5,
     "metadata": {},
     "output_type": "execute_result"
    }
   ],
   "source": [
    "# IV operation - lower()\n",
    "\n",
    "c = \"HELLO PYTHON PROGRAMMERS \"\n",
    "c.lower()"
   ]
  },
  {
   "cell_type": "code",
   "execution_count": 6,
   "metadata": {},
   "outputs": [
    {
     "data": {
      "text/plain": [
       "'Hello Welcome To Python Learning'"
      ]
     },
     "execution_count": 6,
     "metadata": {},
     "output_type": "execute_result"
    }
   ],
   "source": [
    "# V operation - title()\n",
    "\n",
    "q = \"hello welcome to python learning\"\n",
    "q.title()"
   ]
  },
  {
   "cell_type": "code",
   "execution_count": null,
   "metadata": {},
   "outputs": [],
   "source": []
  },
  {
   "cell_type": "code",
   "execution_count": 12,
   "metadata": {},
   "outputs": [
    {
     "name": "stdout",
     "output_type": "stream",
     "text": [
      "[10, 20, 30, 40, 50]\n"
     ]
    }
   ],
   "source": [
    "#Ques-2:- Try 5 Different functions of the List object in Python.\n",
    "\n",
    "# I operation - append()\n",
    "\n",
    "seq = [10, 20, 30, 40]\n",
    "seq.append(50)\n",
    "print(seq)\n"
   ]
  },
  {
   "cell_type": "code",
   "execution_count": 13,
   "metadata": {},
   "outputs": [
    {
     "name": "stdout",
     "output_type": "stream",
     "text": [
      "[10, 20, 30, 40, 50, 50, 60, 70, 80, 90, 100]\n"
     ]
    }
   ],
   "source": [
    "# II- operation - extend()\n",
    "\n",
    "seq.extend([50,60,70,80,90,100])\n",
    "print(seq)\n"
   ]
  },
  {
   "cell_type": "code",
   "execution_count": 14,
   "metadata": {},
   "outputs": [
    {
     "name": "stdout",
     "output_type": "stream",
     "text": [
      "[100, 90, 80, 70, 60, 50, 50, 40, 30, 20, 10]\n"
     ]
    }
   ],
   "source": [
    "#III - operation - reverse()\n",
    "\n",
    "seq.reverse()\n",
    "print(seq)"
   ]
  },
  {
   "cell_type": "code",
   "execution_count": 15,
   "metadata": {},
   "outputs": [
    {
     "name": "stdout",
     "output_type": "stream",
     "text": [
      "[1, 1, 2, 2, 3, 4, 4, 5, 5, 6, 7, 7, 8]\n"
     ]
    }
   ],
   "source": [
    "#IV-operation - sort()\n",
    "\n",
    "seq1 = [1,2,3,2,1,4,5,7,4,6,7,8,5]\n",
    "seq1.sort()\n",
    "print(seq1)"
   ]
  },
  {
   "cell_type": "code",
   "execution_count": 17,
   "metadata": {},
   "outputs": [
    {
     "name": "stdout",
     "output_type": "stream",
     "text": [
      "[1, 2, 3, 4, 5]\n"
     ]
    }
   ],
   "source": [
    "# V- operation - insert(index, value)\n",
    "seq2 = [ 1,2,3,4]\n",
    "seq2.insert(4,5)\n",
    "print(seq2)\n"
   ]
  },
  {
   "cell_type": "code",
   "execution_count": null,
   "metadata": {},
   "outputs": [],
   "source": []
  },
  {
   "cell_type": "code",
   "execution_count": 18,
   "metadata": {},
   "outputs": [
    {
     "name": "stdout",
     "output_type": "stream",
     "text": [
      "{}\n"
     ]
    }
   ],
   "source": [
    "#Ques-3:- Experiment with at least 5 default functions of Dictionary\n",
    "\n",
    "# I- operation - clear()\n",
    "\n",
    "dict = {\"name\":\"abc\",\"Rno\":123,\"course\":\"b.tech\"}\n",
    "dict.clear()\n",
    "print(dict)"
   ]
  },
  {
   "cell_type": "code",
   "execution_count": 24,
   "metadata": {},
   "outputs": [
    {
     "name": "stdout",
     "output_type": "stream",
     "text": [
      "{'name': 'abc', 'Rno': 123, 'course': 'b.tech', 'branch': 'CSE', 'place': 'xyz'}\n"
     ]
    }
   ],
   "source": [
    "# II operation - update()\n",
    "\n",
    "d = {\"name\":\"abc\",\"Rno\":123,\"course\":\"b.tech\"}\n",
    "d.update( {\"branch\":\"CSE\",\"place\":\"xyz\"})\n",
    "print(d)"
   ]
  },
  {
   "cell_type": "code",
   "execution_count": 26,
   "metadata": {},
   "outputs": [
    {
     "data": {
      "text/plain": [
       "dict_values(['abc', 123, 'b.tech', 'CSE', 'xyz'])"
      ]
     },
     "execution_count": 26,
     "metadata": {},
     "output_type": "execute_result"
    }
   ],
   "source": [
    "#III operation - values()\n",
    "\n",
    "d.values()"
   ]
  },
  {
   "cell_type": "code",
   "execution_count": 33,
   "metadata": {},
   "outputs": [
    {
     "data": {
      "text/plain": [
       "123"
      ]
     },
     "execution_count": 33,
     "metadata": {},
     "output_type": "execute_result"
    }
   ],
   "source": [
    "# IV operation - get()\n",
    "\n",
    "d1 = {\"name\":\"abc\",\"Rno\":123,\"course\":\"b.tech\",\"branch\":\"CSE\",\"place\":\"xyz\"}\n",
    "d1.get(\"Rno\")"
   ]
  },
  {
   "cell_type": "code",
   "execution_count": 39,
   "metadata": {},
   "outputs": [
    {
     "name": "stdout",
     "output_type": "stream",
     "text": [
      "{'name': 'abc', 'Rno': 123, 'course': 'b.tech', 'branch': 'CSE'}\n"
     ]
    }
   ],
   "source": [
    "# V- operation: -pop()\n",
    "dict1 = {\"name\":\"abc\",\"Rno\":123,\"course\":\"b.tech\",\"branch\":\"CSE\",\"place\":\"xyz\"}\n",
    "dict1.pop(\"place\")\n",
    "print(dict1)"
   ]
  },
  {
   "cell_type": "code",
   "execution_count": null,
   "metadata": {},
   "outputs": [],
   "source": []
  }
 ],
 "metadata": {
  "kernelspec": {
   "display_name": "Python 3",
   "language": "python",
   "name": "python3"
  },
  "language_info": {
   "codemirror_mode": {
    "name": "ipython",
    "version": 3
   },
   "file_extension": ".py",
   "mimetype": "text/x-python",
   "name": "python",
   "nbconvert_exporter": "python",
   "pygments_lexer": "ipython3",
   "version": "3.8.3"
  }
 },
 "nbformat": 4,
 "nbformat_minor": 4
}
