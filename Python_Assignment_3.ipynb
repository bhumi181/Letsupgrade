{
 "cells": [
  {
   "cell_type": "code",
   "execution_count": 1,
   "metadata": {},
   "outputs": [],
   "source": [
    "# Ques 1-\n",
    "## Write down a program in Python for Opening a File and Writing \" I Love LetsUpgrade\" And close\n",
    "## it, and read it back again, and then append some data to it and close it.\n",
    "\n",
    "abc = open(\"HY.txt\",'w')\n",
    "\n",
    "abc.write(\"HELLO, I AM BHUMIKA WADIA, HERE TO LEARN PYTHON \")\n",
    "\n",
    "abc.close()"
   ]
  },
  {
   "cell_type": "code",
   "execution_count": 2,
   "metadata": {},
   "outputs": [
    {
     "name": "stdout",
     "output_type": "stream",
     "text": [
      "HELLO, I AM BHUMIKA WADIA, HERE TO LEARN PYTHON \n"
     ]
    }
   ],
   "source": [
    "abc = open(\"HY.txt\",'r')\n",
    "\n",
    "print(abc.read())\n",
    "\n",
    "abc.close()"
   ]
  },
  {
   "cell_type": "code",
   "execution_count": 3,
   "metadata": {},
   "outputs": [],
   "source": [
    "abc =  open(\"HY.txt\",'a')\n",
    "\n",
    "abc.write(\"I LOVE TO LEARN FROM LETSUPGRADE \")\n",
    "\n",
    "abc.close()"
   ]
  },
  {
   "cell_type": "code",
   "execution_count": 6,
   "metadata": {},
   "outputs": [
    {
     "name": "stdout",
     "output_type": "stream",
     "text": [
      "Input a number to compute the factorial : 6\n",
      "720\n"
     ]
    }
   ],
   "source": [
    "# Ques 2-\n",
    "# Write a function which can return a Factorial of any numbers as INT, given in the argument.\n",
    "\n",
    "def fact(n):\n",
    "    if n == 0:\n",
    "        return 1\n",
    "    else:\n",
    "        return n * fact(n-1)\n",
    "n=int(input(\"Enter any number to get factorial : \"))\n",
    "print(fact(n))"
   ]
  },
  {
   "cell_type": "code",
   "execution_count": null,
   "metadata": {},
   "outputs": [],
   "source": []
  },
  {
   "cell_type": "code",
   "execution_count": null,
   "metadata": {},
   "outputs": [],
   "source": []
  }
 ],
 "metadata": {
  "kernelspec": {
   "display_name": "Python 3",
   "language": "python",
   "name": "python3"
  },
  "language_info": {
   "codemirror_mode": {
    "name": "ipython",
    "version": 3
   },
   "file_extension": ".py",
   "mimetype": "text/x-python",
   "name": "python",
   "nbconvert_exporter": "python",
   "pygments_lexer": "ipython3",
   "version": "3.8.3"
  }
 },
 "nbformat": 4,
 "nbformat_minor": 4
}
